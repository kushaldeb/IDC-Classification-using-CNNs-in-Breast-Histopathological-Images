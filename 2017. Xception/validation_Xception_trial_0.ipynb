{
 "cells": [
  {
   "cell_type": "code",
   "execution_count": 1,
   "metadata": {},
   "outputs": [],
   "source": [
    "#!/usr/bin/env python3\n",
    "# -*- coding: utf-8 -*-\n",
    "\"\"\"\n",
    "Created on Thu Mar  21 16:37:31 2019\n",
    "\n",
    "@author: kushaldeb\n",
    "\"\"\"\n",
    "\n",
    "import os\n",
    "import numpy as np\n",
    "import pandas as pd\n",
    "from tensorflow.keras.models import Sequential, load_model\n",
    "from tensorflow.keras.layers import GlobalAveragePooling2D, Dense\n",
    "from tensorflow.keras.optimizers import *\n",
    "from tensorflow.keras.applications.xception import Xception\n",
    "from tensorflow.keras.models import Model\n",
    "from tensorflow.keras.callbacks import ModelCheckpoint, EarlyStopping\n",
    "from tensorflow.keras.utils import multi_gpu_model\n",
    "from tensorflow.keras.callbacks import TensorBoard\n",
    "from tensorflow.keras.preprocessing.image import ImageDataGenerator\n",
    "from tensorflow.keras.applications.xception import preprocess_input\n",
    "from tensorflow.keras.preprocessing.image import load_img, img_to_array\n",
    "from sklearn.metrics import classification_report\n",
    "from tqdm import tqdm_notebook\n",
    "from PIL import ImageFile\n",
    "ImageFile.LOAD_TRUNCATED_IMAGES = True\n",
    "os.environ['TF_CPP_MIN_LOG_LEVEL'] = '3'"
   ]
  },
  {
   "cell_type": "code",
   "execution_count": 2,
   "metadata": {},
   "outputs": [],
   "source": [
    "# declaring the constants\n",
    "\n",
    "batch_size = 64\n",
    "img_width, img_height = 100, 100\n",
    "ngpus = 4\n",
    "nclasses = 2\n",
    "\n",
    "model_path = 'models-xception/model_weights.h5'"
   ]
  },
  {
   "cell_type": "code",
   "execution_count": 3,
   "metadata": {},
   "outputs": [
    {
     "name": "stdout",
     "output_type": "stream",
     "text": [
      "WARNING:tensorflow:From /home/mia/tf-trt/lib/python3.6/site-packages/tensorflow/python/ops/resource_variable_ops.py:435: colocate_with (from tensorflow.python.framework.ops) is deprecated and will be removed in a future version.\n",
      "Instructions for updating:\n",
      "Colocations handled automatically by placer.\n",
      "WARNING:tensorflow:From /home/mia/tf-trt/lib/python3.6/site-packages/tensorflow/python/ops/math_ops.py:3066: to_int32 (from tensorflow.python.ops.math_ops) is deprecated and will be removed in a future version.\n",
      "Instructions for updating:\n",
      "Use tf.cast instead.\n"
     ]
    }
   ],
   "source": [
    "try:\n",
    "    model = load_model('models-xception/model.h5')\n",
    "except:\n",
    "    base_model = Xception(input_shape=(img_width, img_height, 3), weights='imagenet', include_top=False)\n",
    "    x = base_model.output\n",
    "    x = GlobalAveragePooling2D()(x)\n",
    "    predictions = Dense(nclasses-1, activation='sigmoid')(x)\n",
    "    pmodel = Model(base_model.input, predictions)\n",
    "    \n",
    "    model = multi_gpu_model(pmodel, ngpus)\n",
    "    model.load_weights('models-xception/model_weights.h5')"
   ]
  },
  {
   "cell_type": "code",
   "execution_count": 4,
   "metadata": {},
   "outputs": [],
   "source": [
    "def get_image(path):\n",
    "    i = img_to_array(load_img(path, target_size=(img_width, img_height)))\n",
    "    i = np.expand_dims(i, axis=0)\n",
    "    return i/255.0"
   ]
  },
  {
   "cell_type": "code",
   "execution_count": 5,
   "metadata": {},
   "outputs": [],
   "source": [
    "prediction = []\n",
    "actuals = []\n",
    "image_names = []\n",
    "probability = []\n",
    "\n",
    "class_map = {\n",
    "    0 : '0', 1 : '1'\n",
    "}"
   ]
  },
  {
   "cell_type": "code",
   "execution_count": 6,
   "metadata": {},
   "outputs": [
    {
     "data": {
      "application/vnd.jupyter.widget-view+json": {
       "model_id": "e66727e781c84cd2b9ca0b582345b245",
       "version_major": 2,
       "version_minor": 0
      },
      "text/plain": [
       "HBox(children=(IntProgress(value=0, max=2), HTML(value='')))"
      ]
     },
     "metadata": {},
     "output_type": "display_data"
    },
    {
     "data": {
      "application/vnd.jupyter.widget-view+json": {
       "model_id": "5e9cd87c4af449c7b9f5cb76f2cb7880",
       "version_major": 2,
       "version_minor": 0
      },
      "text/plain": [
       "HBox(children=(IntProgress(value=0, max=5000), HTML(value='')))"
      ]
     },
     "metadata": {},
     "output_type": "display_data"
    },
    {
     "data": {
      "application/vnd.jupyter.widget-view+json": {
       "model_id": "1f00b019f2b9431cb876d7cd0abcd41e",
       "version_major": 2,
       "version_minor": 0
      },
      "text/plain": [
       "HBox(children=(IntProgress(value=0, max=5000), HTML(value='')))"
      ]
     },
     "metadata": {},
     "output_type": "display_data"
    },
    {
     "name": "stdout",
     "output_type": "stream",
     "text": [
      "\n"
     ]
    }
   ],
   "source": [
    "for i in tqdm_notebook(os.listdir('sample_dataset/Validation')):\n",
    "    for img in tqdm_notebook(os.listdir(f'sample_dataset/Validation/{i}')):\n",
    "        pred = model.predict(get_image(f'sample_dataset/Validation/{i}/{img}'))[0]\n",
    "        label = class_map[1] if pred > 0.5 else class_map[0]\n",
    "        prediction.append(label)\n",
    "        probability.append(pred)\n",
    "        actuals.append(i)\n",
    "        image_names.append(img)\n",
    "        \n",
    "data = {\n",
    "        'image_names' : image_names,\n",
    "        'actual_prediction' : actuals,\n",
    "        'predictions' : prediction,\n",
    "        'probability' : probability\n",
    "        }"
   ]
  },
  {
   "cell_type": "code",
   "execution_count": 7,
   "metadata": {},
   "outputs": [
    {
     "name": "stdout",
     "output_type": "stream",
     "text": [
      "              precision    recall  f1-score   support\n",
      "\n",
      "           0       0.91      0.85      0.88      5000\n",
      "           1       0.86      0.92      0.89      5000\n",
      "\n",
      "   micro avg       0.88      0.88      0.88     10000\n",
      "   macro avg       0.89      0.88      0.88     10000\n",
      "weighted avg       0.89      0.88      0.88     10000\n",
      "\n"
     ]
    }
   ],
   "source": [
    "pd.DataFrame(data).to_csv('validation-results-xception.csv', index=False)\n",
    "\n",
    "x = classification_report(actuals, prediction)\n",
    "print(x)"
   ]
  },
  {
   "cell_type": "code",
   "execution_count": 8,
   "metadata": {},
   "outputs": [],
   "source": [
    "prediction = []\n",
    "actuals = []\n",
    "image_names = []\n",
    "probability = []\n",
    "\n",
    "class_map = {\n",
    "    0 : '0', 1 : '1'\n",
    "}"
   ]
  },
  {
   "cell_type": "code",
   "execution_count": 9,
   "metadata": {},
   "outputs": [
    {
     "data": {
      "application/vnd.jupyter.widget-view+json": {
       "model_id": "85b42ec90ae0428e9b26f249284eaf86",
       "version_major": 2,
       "version_minor": 0
      },
      "text/plain": [
       "HBox(children=(IntProgress(value=0, max=2), HTML(value='')))"
      ]
     },
     "metadata": {},
     "output_type": "display_data"
    },
    {
     "data": {
      "application/vnd.jupyter.widget-view+json": {
       "model_id": "1a94bf4887114e748c6f186589e4649b",
       "version_major": 2,
       "version_minor": 0
      },
      "text/plain": [
       "HBox(children=(IntProgress(value=0, max=500), HTML(value='')))"
      ]
     },
     "metadata": {},
     "output_type": "display_data"
    },
    {
     "data": {
      "application/vnd.jupyter.widget-view+json": {
       "model_id": "f14d9ea1551c471684b78a44b749a781",
       "version_major": 2,
       "version_minor": 0
      },
      "text/plain": [
       "HBox(children=(IntProgress(value=0, max=500), HTML(value='')))"
      ]
     },
     "metadata": {},
     "output_type": "display_data"
    },
    {
     "name": "stdout",
     "output_type": "stream",
     "text": [
      "\n"
     ]
    }
   ],
   "source": [
    "for i in tqdm_notebook(os.listdir('sample_dataset/Testing')):\n",
    "    for img in tqdm_notebook(os.listdir(f'sample_dataset/Testing/{i}')):\n",
    "        pred = model.predict(get_image(f'sample_dataset/Testing/{i}/{img}'))[0]\n",
    "        label = class_map[1] if pred > 0.5 else class_map[0]\n",
    "        prediction.append(label)\n",
    "        probability.append(pred)\n",
    "        actuals.append(i)\n",
    "        image_names.append(img)\n",
    "        \n",
    "data = {\n",
    "        'image_names' : image_names,\n",
    "        'actual_prediction' : actuals,\n",
    "        'predictions' : prediction,\n",
    "        'probability' : probability\n",
    "        }"
   ]
  },
  {
   "cell_type": "code",
   "execution_count": 10,
   "metadata": {},
   "outputs": [
    {
     "name": "stdout",
     "output_type": "stream",
     "text": [
      "              precision    recall  f1-score   support\n",
      "\n",
      "           0       0.92      0.85      0.88       500\n",
      "           1       0.86      0.92      0.89       500\n",
      "\n",
      "   micro avg       0.89      0.89      0.89      1000\n",
      "   macro avg       0.89      0.89      0.88      1000\n",
      "weighted avg       0.89      0.89      0.88      1000\n",
      "\n"
     ]
    }
   ],
   "source": [
    "pd.DataFrame(data).to_csv('test-results-xception.csv', index=False)\n",
    "\n",
    "x = classification_report(actuals, prediction)\n",
    "print(x)"
   ]
  }
 ],
 "metadata": {
  "kernelspec": {
   "display_name": "Python 3",
   "language": "python",
   "name": "python3"
  },
  "language_info": {
   "codemirror_mode": {
    "name": "ipython",
    "version": 3
   },
   "file_extension": ".py",
   "mimetype": "text/x-python",
   "name": "python",
   "nbconvert_exporter": "python",
   "pygments_lexer": "ipython3",
   "version": "3.6.4"
  }
 },
 "nbformat": 4,
 "nbformat_minor": 2
}
