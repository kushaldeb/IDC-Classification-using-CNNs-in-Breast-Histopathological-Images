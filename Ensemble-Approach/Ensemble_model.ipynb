{
 "cells": [
  {
   "cell_type": "code",
   "execution_count": 1,
   "metadata": {},
   "outputs": [],
   "source": [
    "#!/usr/bin/env python3\n",
    "# -*- coding: utf-8 -*-\n",
    "\"\"\"\n",
    "Created on Thu Mar 28 11:22:31 2019\n",
    "\n",
    "@author: kushaldeb\n",
    "\"\"\"\n",
    "\n",
    "import pandas as pd\n",
    "import numpy as np\n",
    "from sklearn.metrics import classification_report\n",
    "from tqdm import tqdm_notebook"
   ]
  },
  {
   "cell_type": "code",
   "execution_count": 2,
   "metadata": {},
   "outputs": [],
   "source": [
    "val_actuals = pd.read_csv('validation-results-densenet.csv').sort_values('image_names')['actual_prediction'].values\n",
    "val_imagenames = pd.read_csv('validation-results-densenet.csv').sort_values('image_names')['image_names'].values\n",
    "\n",
    "val_densenet_predictions = pd.read_csv('validation-results-densenet.csv').sort_values('image_names')['predictions'].values\n",
    "val_densenet_probability = pd.read_csv('validation-results-densenet.csv').sort_values('image_names')['probability'].values\n",
    "\n",
    "val_inceptionresnetv2_predictions = pd.read_csv('validation-results-inceptionresnetv2.csv').sort_values('image_names')['predictions'].values\n",
    "val_inceptionresnetv2_probability = pd.read_csv('validation-results-inceptionresnetv2.csv').sort_values('image_names')['probability'].values\n",
    "\n",
    "val_inceptionv3_predictions = pd.read_csv('validation-results-inceptionv3.csv').sort_values('image_names')['predictions'].values\n",
    "val_inceptionv3_probability = pd.read_csv('validation-results-inceptionv3.csv').sort_values('image_names')['probability'].values\n",
    "\n",
    "val_mobilenetv2_predictions = pd.read_csv('validation-results-mobilenetv2.csv').sort_values('image_names')['predictions'].values\n",
    "val_mobilenetv2_probability = pd.read_csv('validation-results-mobilenetv2.csv').sort_values('image_names')['probability'].values\n",
    "\n",
    "val_xception_predictions = pd.read_csv('validation-results-xception.csv').sort_values('image_names')['predictions'].values\n",
    "val_xception_probability = pd.read_csv('validation-results-xception.csv').sort_values('image_names')['probability'].values"
   ]
  },
  {
   "cell_type": "code",
   "execution_count": 3,
   "metadata": {},
   "outputs": [],
   "source": [
    "class_map = {0:'Non-IDC',\n",
    "            1:'IDC'}"
   ]
  },
  {
   "cell_type": "markdown",
   "metadata": {},
   "source": [
    "## Uniform Output"
   ]
  },
  {
   "cell_type": "code",
   "execution_count": 4,
   "metadata": {},
   "outputs": [
    {
     "data": {
      "application/vnd.jupyter.widget-view+json": {
       "model_id": "6012690247b943eca9c11ee666b22b06",
       "version_major": 2,
       "version_minor": 0
      },
      "text/html": [
       "<p>Failed to display Jupyter Widget of type <code>HBox</code>.</p>\n",
       "<p>\n",
       "  If you're reading this message in the Jupyter Notebook or JupyterLab Notebook, it may mean\n",
       "  that the widgets JavaScript is still loading. If this message persists, it\n",
       "  likely means that the widgets JavaScript library is either not installed or\n",
       "  not enabled. See the <a href=\"https://ipywidgets.readthedocs.io/en/stable/user_install.html\">Jupyter\n",
       "  Widgets Documentation</a> for setup instructions.\n",
       "</p>\n",
       "<p>\n",
       "  If you're reading this message in another frontend (for example, a static\n",
       "  rendering on GitHub or <a href=\"https://nbviewer.jupyter.org/\">NBViewer</a>),\n",
       "  it may mean that your frontend doesn't currently support widgets.\n",
       "</p>\n"
      ],
      "text/plain": [
       "HBox(children=(IntProgress(value=0, max=10000), HTML(value='')))"
      ]
     },
     "metadata": {},
     "output_type": "display_data"
    },
    {
     "name": "stdout",
     "output_type": "stream",
     "text": [
      "\n"
     ]
    }
   ],
   "source": [
    "val_final_preds = []\n",
    "for i in tqdm_notebook(range(len(val_actuals))):\n",
    "    pred = None\n",
    "    if val_inceptionv3_predictions[i] == val_xception_predictions[i] == val_mobilenetv2_predictions[i] == val_densenet_predictions[i] == val_inceptionresnetv2_predictions[i]:\n",
    "        pred = val_inceptionv3_predictions[i]\n",
    "    else:\n",
    "        pred = 'None'\n",
    "    val_final_preds.append(pred)"
   ]
  },
  {
   "cell_type": "code",
   "execution_count": 5,
   "metadata": {
    "scrolled": true
   },
   "outputs": [
    {
     "data": {
      "application/vnd.jupyter.widget-view+json": {
       "model_id": "6be650707321489d8ebc7a7617ece314",
       "version_major": 2,
       "version_minor": 0
      },
      "text/html": [
       "<p>Failed to display Jupyter Widget of type <code>HBox</code>.</p>\n",
       "<p>\n",
       "  If you're reading this message in the Jupyter Notebook or JupyterLab Notebook, it may mean\n",
       "  that the widgets JavaScript is still loading. If this message persists, it\n",
       "  likely means that the widgets JavaScript library is either not installed or\n",
       "  not enabled. See the <a href=\"https://ipywidgets.readthedocs.io/en/stable/user_install.html\">Jupyter\n",
       "  Widgets Documentation</a> for setup instructions.\n",
       "</p>\n",
       "<p>\n",
       "  If you're reading this message in another frontend (for example, a static\n",
       "  rendering on GitHub or <a href=\"https://nbviewer.jupyter.org/\">NBViewer</a>),\n",
       "  it may mean that your frontend doesn't currently support widgets.\n",
       "</p>\n"
      ],
      "text/plain": [
       "HBox(children=(IntProgress(value=0, max=10000), HTML(value='')))"
      ]
     },
     "metadata": {},
     "output_type": "display_data"
    },
    {
     "name": "stdout",
     "output_type": "stream",
     "text": [
      "\n",
      "True Positive : 3928\n",
      "True Negative : 3448\n",
      "False Positive : 256\n",
      "False Negative : 119\n",
      "None from positive : 953\n",
      "None from negative : 1296\n",
      "              precision    recall  f1-score   support\n",
      "\n",
      "         IDC       0.94      0.79      0.86      5000\n",
      "     Non-IDC       0.97      0.69      0.80      5000\n",
      "        None       0.00      0.00      0.00         0\n",
      "\n",
      "   micro avg       0.74      0.74      0.74     10000\n",
      "   macro avg       0.64      0.49      0.55     10000\n",
      "weighted avg       0.95      0.74      0.83     10000\n",
      "\n",
      "Accuracy : 0.7376\n"
     ]
    },
    {
     "name": "stderr",
     "output_type": "stream",
     "text": [
      "/home/kushaldeb/anaconda3/lib/python3.6/site-packages/sklearn/metrics/classification.py:1145: UndefinedMetricWarning: Recall and F-score are ill-defined and being set to 0.0 in labels with no true samples.\n",
      "  'recall', 'true', average, warn_for)\n"
     ]
    }
   ],
   "source": [
    "true_pos = 0\n",
    "true_neg = 0\n",
    "false_pos = 0\n",
    "false_neg = 0\n",
    "none_from_pos = 0\n",
    "none_from_neg = 0\n",
    "\n",
    "for i in tqdm_notebook(range(len(val_actuals))):\n",
    "    if val_actuals[i] == class_map[1]:\n",
    "        if val_final_preds[i] == class_map[1]:\n",
    "            true_pos += 1\n",
    "        elif val_final_preds[i] == class_map[0]:\n",
    "            false_neg += 1\n",
    "        else:\n",
    "            none_from_pos += 1\n",
    "    else :\n",
    "        if val_final_preds[i] == class_map[1]:\n",
    "            false_pos += 1\n",
    "        elif val_final_preds[i] == class_map[0]:\n",
    "            true_neg += 1\n",
    "        else:\n",
    "            none_from_neg += 1\n",
    "\n",
    "print('True Positive : {}'.format(true_pos))\n",
    "print('True Negative : {}'.format(true_neg))\n",
    "print('False Positive : {}'.format(false_pos))\n",
    "print('False Negative : {}'.format(false_neg))\n",
    "print('None from positive : {}'.format(none_from_pos))\n",
    "print('None from negative : {}'.format(none_from_neg))\n",
    "\n",
    "x = classification_report(val_actuals, val_final_preds)\n",
    "print(x)\n",
    "\n",
    "accuracy = (true_pos+true_neg)/(true_pos+true_neg+false_neg+false_pos+none_from_neg+none_from_pos)\n",
    "print(\"Accuracy : {}\".format(accuracy))"
   ]
  },
  {
   "cell_type": "markdown",
   "metadata": {},
   "source": [
    "## With Probability"
   ]
  },
  {
   "cell_type": "code",
   "execution_count": 8,
   "metadata": {},
   "outputs": [
    {
     "data": {
      "application/vnd.jupyter.widget-view+json": {
       "model_id": "fcebf920a3a34a0aba0418c88250ed48",
       "version_major": 2,
       "version_minor": 0
      },
      "text/html": [
       "<p>Failed to display Jupyter Widget of type <code>HBox</code>.</p>\n",
       "<p>\n",
       "  If you're reading this message in the Jupyter Notebook or JupyterLab Notebook, it may mean\n",
       "  that the widgets JavaScript is still loading. If this message persists, it\n",
       "  likely means that the widgets JavaScript library is either not installed or\n",
       "  not enabled. See the <a href=\"https://ipywidgets.readthedocs.io/en/stable/user_install.html\">Jupyter\n",
       "  Widgets Documentation</a> for setup instructions.\n",
       "</p>\n",
       "<p>\n",
       "  If you're reading this message in another frontend (for example, a static\n",
       "  rendering on GitHub or <a href=\"https://nbviewer.jupyter.org/\">NBViewer</a>),\n",
       "  it may mean that your frontend doesn't currently support widgets.\n",
       "</p>\n"
      ],
      "text/plain": [
       "HBox(children=(IntProgress(value=0, max=10000), HTML(value='')))"
      ]
     },
     "metadata": {},
     "output_type": "display_data"
    },
    {
     "name": "stdout",
     "output_type": "stream",
     "text": [
      "\n"
     ]
    }
   ],
   "source": [
    "val_final_preds = []\n",
    "for i in tqdm_notebook(range(len(val_actuals))):\n",
    "    prob = (val_densenet_probability[i]+val_inceptionv3_probability[i]+val_inceptionresnetv2_probability[i]+val_xception_probability[i]+val_mobilenetv2_probability[i])/5\n",
    "    if prob>=0.5:\n",
    "        pred = class_map[1]\n",
    "    else:\n",
    "        pred = class_map[0]\n",
    "    val_final_preds.append(pred)"
   ]
  },
  {
   "cell_type": "code",
   "execution_count": 9,
   "metadata": {},
   "outputs": [
    {
     "data": {
      "application/vnd.jupyter.widget-view+json": {
       "model_id": "f83227f173774b588e73feb6b29ab1ae",
       "version_major": 2,
       "version_minor": 0
      },
      "text/html": [
       "<p>Failed to display Jupyter Widget of type <code>HBox</code>.</p>\n",
       "<p>\n",
       "  If you're reading this message in the Jupyter Notebook or JupyterLab Notebook, it may mean\n",
       "  that the widgets JavaScript is still loading. If this message persists, it\n",
       "  likely means that the widgets JavaScript library is either not installed or\n",
       "  not enabled. See the <a href=\"https://ipywidgets.readthedocs.io/en/stable/user_install.html\">Jupyter\n",
       "  Widgets Documentation</a> for setup instructions.\n",
       "</p>\n",
       "<p>\n",
       "  If you're reading this message in another frontend (for example, a static\n",
       "  rendering on GitHub or <a href=\"https://nbviewer.jupyter.org/\">NBViewer</a>),\n",
       "  it may mean that your frontend doesn't currently support widgets.\n",
       "</p>\n"
      ],
      "text/plain": [
       "HBox(children=(IntProgress(value=0, max=10000), HTML(value='')))"
      ]
     },
     "metadata": {},
     "output_type": "display_data"
    },
    {
     "name": "stdout",
     "output_type": "stream",
     "text": [
      "\n",
      "True Positive : 4628\n",
      "True Negative : 4397\n",
      "False Positive : 603\n",
      "False Negative : 372\n",
      "None from positive : 0\n",
      "None from negative : 0\n",
      "              precision    recall  f1-score   support\n",
      "\n",
      "         IDC       0.88      0.93      0.90      5000\n",
      "     Non-IDC       0.92      0.88      0.90      5000\n",
      "\n",
      "   micro avg       0.90      0.90      0.90     10000\n",
      "   macro avg       0.90      0.90      0.90     10000\n",
      "weighted avg       0.90      0.90      0.90     10000\n",
      "\n",
      "Accuracy : 0.9025\n"
     ]
    }
   ],
   "source": [
    "true_pos = 0\n",
    "true_neg = 0\n",
    "false_pos = 0\n",
    "false_neg = 0\n",
    "none_from_pos = 0\n",
    "none_from_neg = 0\n",
    "\n",
    "for i in tqdm_notebook(range(len(val_actuals))):\n",
    "    if val_actuals[i] == class_map[1]:\n",
    "        if val_final_preds[i] == class_map[1]:\n",
    "            true_pos += 1\n",
    "        elif val_final_preds[i] == class_map[0]:\n",
    "            false_neg += 1\n",
    "        else:\n",
    "            none_from_pos += 1\n",
    "    else :\n",
    "        if val_final_preds[i] == class_map[1]:\n",
    "            false_pos += 1\n",
    "        elif val_final_preds[i] == class_map[0]:\n",
    "            true_neg += 1\n",
    "        else:\n",
    "            none_from_neg += 1\n",
    "\n",
    "print('True Positive : {}'.format(true_pos))\n",
    "print('True Negative : {}'.format(true_neg))\n",
    "print('False Positive : {}'.format(false_pos))\n",
    "print('False Negative : {}'.format(false_neg))\n",
    "print('None from positive : {}'.format(none_from_pos))\n",
    "print('None from negative : {}'.format(none_from_neg))\n",
    "\n",
    "x = classification_report(val_actuals, val_final_preds)\n",
    "print(x)\n",
    "\n",
    "accuracy = (true_pos+true_neg)/(true_pos+true_neg+false_neg+false_pos+none_from_neg+none_from_pos)\n",
    "print(\"Accuracy : {}\".format(accuracy))"
   ]
  },
  {
   "cell_type": "markdown",
   "metadata": {},
   "source": [
    "## With Probability Threshold"
   ]
  },
  {
   "cell_type": "code",
   "execution_count": 10,
   "metadata": {},
   "outputs": [
    {
     "data": {
      "application/vnd.jupyter.widget-view+json": {
       "model_id": "f439ce1f44034644ad99d880efcae9b1",
       "version_major": 2,
       "version_minor": 0
      },
      "text/html": [
       "<p>Failed to display Jupyter Widget of type <code>HBox</code>.</p>\n",
       "<p>\n",
       "  If you're reading this message in the Jupyter Notebook or JupyterLab Notebook, it may mean\n",
       "  that the widgets JavaScript is still loading. If this message persists, it\n",
       "  likely means that the widgets JavaScript library is either not installed or\n",
       "  not enabled. See the <a href=\"https://ipywidgets.readthedocs.io/en/stable/user_install.html\">Jupyter\n",
       "  Widgets Documentation</a> for setup instructions.\n",
       "</p>\n",
       "<p>\n",
       "  If you're reading this message in another frontend (for example, a static\n",
       "  rendering on GitHub or <a href=\"https://nbviewer.jupyter.org/\">NBViewer</a>),\n",
       "  it may mean that your frontend doesn't currently support widgets.\n",
       "</p>\n"
      ],
      "text/plain": [
       "HBox(children=(IntProgress(value=0, max=10000), HTML(value='')))"
      ]
     },
     "metadata": {},
     "output_type": "display_data"
    },
    {
     "name": "stdout",
     "output_type": "stream",
     "text": [
      "\n"
     ]
    }
   ],
   "source": [
    "val_final_preds = []\n",
    "for i in tqdm_notebook(range(len(val_actuals))):\n",
    "    pred = 'None'\n",
    "    prob = (val_densenet_probability[i]+val_inceptionv3_probability[i]+val_inceptionresnetv2_probability[i]+val_xception_probability[i]+val_mobilenetv2_probability[i])/5\n",
    "    if prob>=0.9:\n",
    "        pred = class_map[1]\n",
    "    elif prob<=0.1:\n",
    "        pred = class_map[0]\n",
    "    val_final_preds.append(pred)"
   ]
  },
  {
   "cell_type": "code",
   "execution_count": 11,
   "metadata": {},
   "outputs": [
    {
     "data": {
      "application/vnd.jupyter.widget-view+json": {
       "model_id": "72303ad5ddb14769aba7bba3cbf79420",
       "version_major": 2,
       "version_minor": 0
      },
      "text/html": [
       "<p>Failed to display Jupyter Widget of type <code>HBox</code>.</p>\n",
       "<p>\n",
       "  If you're reading this message in the Jupyter Notebook or JupyterLab Notebook, it may mean\n",
       "  that the widgets JavaScript is still loading. If this message persists, it\n",
       "  likely means that the widgets JavaScript library is either not installed or\n",
       "  not enabled. See the <a href=\"https://ipywidgets.readthedocs.io/en/stable/user_install.html\">Jupyter\n",
       "  Widgets Documentation</a> for setup instructions.\n",
       "</p>\n",
       "<p>\n",
       "  If you're reading this message in another frontend (for example, a static\n",
       "  rendering on GitHub or <a href=\"https://nbviewer.jupyter.org/\">NBViewer</a>),\n",
       "  it may mean that your frontend doesn't currently support widgets.\n",
       "</p>\n"
      ],
      "text/plain": [
       "HBox(children=(IntProgress(value=0, max=10000), HTML(value='')))"
      ]
     },
     "metadata": {},
     "output_type": "display_data"
    },
    {
     "name": "stdout",
     "output_type": "stream",
     "text": [
      "\n",
      "True Positive : 3015\n",
      "True Negative : 2528\n",
      "False Positive : 85\n",
      "False Negative : 33\n",
      "None from positive : 1952\n",
      "None from negative : 2387\n",
      "              precision    recall  f1-score   support\n",
      "\n",
      "         IDC       0.97      0.60      0.74      5000\n",
      "     Non-IDC       0.99      0.51      0.67      5000\n",
      "        None       0.00      0.00      0.00         0\n",
      "\n",
      "   micro avg       0.55      0.55      0.55     10000\n",
      "   macro avg       0.65      0.37      0.47     10000\n",
      "weighted avg       0.98      0.55      0.71     10000\n",
      "\n",
      "Accuracy : 0.5543\n"
     ]
    },
    {
     "name": "stderr",
     "output_type": "stream",
     "text": [
      "/home/kushaldeb/anaconda3/lib/python3.6/site-packages/sklearn/metrics/classification.py:1145: UndefinedMetricWarning: Recall and F-score are ill-defined and being set to 0.0 in labels with no true samples.\n",
      "  'recall', 'true', average, warn_for)\n"
     ]
    }
   ],
   "source": [
    "true_pos = 0\n",
    "true_neg = 0\n",
    "false_pos = 0\n",
    "false_neg = 0\n",
    "none_from_pos = 0\n",
    "none_from_neg = 0\n",
    "\n",
    "for i in tqdm_notebook(range(len(val_actuals))):\n",
    "    if val_actuals[i] == class_map[1]:\n",
    "        if val_final_preds[i] == class_map[1]:\n",
    "            true_pos += 1\n",
    "        elif val_final_preds[i] == class_map[0]:\n",
    "            false_neg += 1\n",
    "        else:\n",
    "            none_from_pos += 1\n",
    "    else :\n",
    "        if val_final_preds[i] == class_map[1]:\n",
    "            false_pos += 1\n",
    "        elif val_final_preds[i] == class_map[0]:\n",
    "            true_neg += 1\n",
    "        else:\n",
    "            none_from_neg += 1\n",
    "\n",
    "print('True Positive : {}'.format(true_pos))\n",
    "print('True Negative : {}'.format(true_neg))\n",
    "print('False Positive : {}'.format(false_pos))\n",
    "print('False Negative : {}'.format(false_neg))\n",
    "print('None from positive : {}'.format(none_from_pos))\n",
    "print('None from negative : {}'.format(none_from_neg))\n",
    "\n",
    "x = classification_report(val_actuals, val_final_preds)\n",
    "print(x)\n",
    "\n",
    "accuracy = (true_pos+true_neg)/(true_pos+true_neg+false_neg+false_pos+none_from_neg+none_from_pos)\n",
    "print(\"Accuracy : {}\".format(accuracy))"
   ]
  },
  {
   "cell_type": "markdown",
   "metadata": {},
   "source": [
    "## Majority"
   ]
  },
  {
   "cell_type": "code",
   "execution_count": 12,
   "metadata": {},
   "outputs": [
    {
     "data": {
      "application/vnd.jupyter.widget-view+json": {
       "model_id": "df2147c94ae64442a3b8c26f90b688e4",
       "version_major": 2,
       "version_minor": 0
      },
      "text/html": [
       "<p>Failed to display Jupyter Widget of type <code>HBox</code>.</p>\n",
       "<p>\n",
       "  If you're reading this message in the Jupyter Notebook or JupyterLab Notebook, it may mean\n",
       "  that the widgets JavaScript is still loading. If this message persists, it\n",
       "  likely means that the widgets JavaScript library is either not installed or\n",
       "  not enabled. See the <a href=\"https://ipywidgets.readthedocs.io/en/stable/user_install.html\">Jupyter\n",
       "  Widgets Documentation</a> for setup instructions.\n",
       "</p>\n",
       "<p>\n",
       "  If you're reading this message in another frontend (for example, a static\n",
       "  rendering on GitHub or <a href=\"https://nbviewer.jupyter.org/\">NBViewer</a>),\n",
       "  it may mean that your frontend doesn't currently support widgets.\n",
       "</p>\n"
      ],
      "text/plain": [
       "HBox(children=(IntProgress(value=0, max=10000), HTML(value='')))"
      ]
     },
     "metadata": {},
     "output_type": "display_data"
    },
    {
     "name": "stdout",
     "output_type": "stream",
     "text": [
      "\n"
     ]
    }
   ],
   "source": [
    "val_final_preds = []\n",
    "for i in tqdm_notebook(range(len(val_actuals))):\n",
    "    count_idc = 0\n",
    "    if(val_densenet_predictions[i] == class_map[1]):\n",
    "        count_idc += 1\n",
    "    if(val_inceptionresnetv2_predictions[i] == class_map[1]):\n",
    "        count_idc += 1\n",
    "    if(val_inceptionv3_predictions[i] == class_map[1]):\n",
    "        count_idc += 1\n",
    "    if(val_xception_predictions[i] == class_map[1]):\n",
    "        count_idc += 1\n",
    "    if(val_mobilenetv2_predictions[i] == class_map[1]):\n",
    "        count_idc += 1\n",
    "    if(count_idc > 2):\n",
    "        pred = class_map[1]\n",
    "    else:\n",
    "        pred = class_map[0]\n",
    "    val_final_preds.append(pred)"
   ]
  },
  {
   "cell_type": "code",
   "execution_count": 13,
   "metadata": {},
   "outputs": [
    {
     "data": {
      "application/vnd.jupyter.widget-view+json": {
       "model_id": "c6fe84c109c942b5bef693f58082d79c",
       "version_major": 2,
       "version_minor": 0
      },
      "text/html": [
       "<p>Failed to display Jupyter Widget of type <code>HBox</code>.</p>\n",
       "<p>\n",
       "  If you're reading this message in the Jupyter Notebook or JupyterLab Notebook, it may mean\n",
       "  that the widgets JavaScript is still loading. If this message persists, it\n",
       "  likely means that the widgets JavaScript library is either not installed or\n",
       "  not enabled. See the <a href=\"https://ipywidgets.readthedocs.io/en/stable/user_install.html\">Jupyter\n",
       "  Widgets Documentation</a> for setup instructions.\n",
       "</p>\n",
       "<p>\n",
       "  If you're reading this message in another frontend (for example, a static\n",
       "  rendering on GitHub or <a href=\"https://nbviewer.jupyter.org/\">NBViewer</a>),\n",
       "  it may mean that your frontend doesn't currently support widgets.\n",
       "</p>\n"
      ],
      "text/plain": [
       "HBox(children=(IntProgress(value=0, max=10000), HTML(value='')))"
      ]
     },
     "metadata": {},
     "output_type": "display_data"
    },
    {
     "name": "stdout",
     "output_type": "stream",
     "text": [
      "\n",
      "True Positive : 4616\n",
      "True Negative : 4401\n",
      "False Positive : 599\n",
      "False Negative : 384\n",
      "None from positive : 0\n",
      "None from negative : 0\n",
      "              precision    recall  f1-score   support\n",
      "\n",
      "         IDC       0.89      0.92      0.90      5000\n",
      "     Non-IDC       0.92      0.88      0.90      5000\n",
      "\n",
      "   micro avg       0.90      0.90      0.90     10000\n",
      "   macro avg       0.90      0.90      0.90     10000\n",
      "weighted avg       0.90      0.90      0.90     10000\n",
      "\n",
      "Accuracy : 0.9017\n"
     ]
    }
   ],
   "source": [
    "true_pos = 0\n",
    "true_neg = 0\n",
    "false_pos = 0\n",
    "false_neg = 0\n",
    "none_from_pos = 0\n",
    "none_from_neg = 0\n",
    "\n",
    "for i in tqdm_notebook(range(len(val_actuals))):\n",
    "    if val_actuals[i] == class_map[1]:\n",
    "        if val_final_preds[i] == class_map[1]:\n",
    "            true_pos += 1\n",
    "        elif val_final_preds[i] == class_map[0]:\n",
    "            false_neg += 1\n",
    "        else:\n",
    "            none_from_pos += 1\n",
    "    else :\n",
    "        if val_final_preds[i] == class_map[1]:\n",
    "            false_pos += 1\n",
    "        elif val_final_preds[i] == class_map[0]:\n",
    "            true_neg += 1\n",
    "        else:\n",
    "            none_from_neg += 1\n",
    "\n",
    "print('True Positive : {}'.format(true_pos))\n",
    "print('True Negative : {}'.format(true_neg))\n",
    "print('False Positive : {}'.format(false_pos))\n",
    "print('False Negative : {}'.format(false_neg))\n",
    "print('None from positive : {}'.format(none_from_pos))\n",
    "print('None from negative : {}'.format(none_from_neg))\n",
    "\n",
    "x = classification_report(val_actuals, val_final_preds)\n",
    "print(x)\n",
    "\n",
    "accuracy = (true_pos+true_neg)/(true_pos+true_neg+false_neg+false_pos+none_from_neg+none_from_pos)\n",
    "print(\"Accuracy : {}\".format(accuracy))"
   ]
  },
  {
   "cell_type": "markdown",
   "metadata": {},
   "source": [
    "## Majority with threshold"
   ]
  },
  {
   "cell_type": "code",
   "execution_count": 14,
   "metadata": {},
   "outputs": [
    {
     "data": {
      "application/vnd.jupyter.widget-view+json": {
       "model_id": "1c72b788d28943d5b979273fd107635c",
       "version_major": 2,
       "version_minor": 0
      },
      "text/html": [
       "<p>Failed to display Jupyter Widget of type <code>HBox</code>.</p>\n",
       "<p>\n",
       "  If you're reading this message in the Jupyter Notebook or JupyterLab Notebook, it may mean\n",
       "  that the widgets JavaScript is still loading. If this message persists, it\n",
       "  likely means that the widgets JavaScript library is either not installed or\n",
       "  not enabled. See the <a href=\"https://ipywidgets.readthedocs.io/en/stable/user_install.html\">Jupyter\n",
       "  Widgets Documentation</a> for setup instructions.\n",
       "</p>\n",
       "<p>\n",
       "  If you're reading this message in another frontend (for example, a static\n",
       "  rendering on GitHub or <a href=\"https://nbviewer.jupyter.org/\">NBViewer</a>),\n",
       "  it may mean that your frontend doesn't currently support widgets.\n",
       "</p>\n"
      ],
      "text/plain": [
       "HBox(children=(IntProgress(value=0, max=10000), HTML(value='')))"
      ]
     },
     "metadata": {},
     "output_type": "display_data"
    },
    {
     "name": "stdout",
     "output_type": "stream",
     "text": [
      "\n"
     ]
    }
   ],
   "source": [
    "val_final_preds = []\n",
    "for i in tqdm_notebook(range(len(val_actuals))):\n",
    "    pred = 'None'\n",
    "    count_idc = 0\n",
    "    count_nonidc = 0\n",
    "    if(val_densenet_predictions[i] == class_map[1]):\n",
    "        count_idc += 1\n",
    "    else:\n",
    "        count_nonidc += 1\n",
    "    if(val_inceptionresnetv2_predictions[i] == class_map[1]):\n",
    "        count_idc += 1\n",
    "    else:\n",
    "        count_nonidc += 1\n",
    "    if(val_inceptionv3_predictions[i] == class_map[1]):\n",
    "        count_idc += 1\n",
    "    else:\n",
    "        count_nonidc += 1\n",
    "    if(val_xception_predictions[i] == class_map[1]):\n",
    "        count_idc += 1\n",
    "    else:\n",
    "        count_nonidc += 1\n",
    "    if(val_mobilenetv2_predictions[i] == class_map[1]):\n",
    "        count_idc += 1\n",
    "    else:\n",
    "        count_nonidc += 1\n",
    "    if(count_idc > 3):\n",
    "        pred = class_map[1]\n",
    "    elif(count_nonidc > 3):\n",
    "        pred = class_map[0]\n",
    "    val_final_preds.append(pred)"
   ]
  },
  {
   "cell_type": "code",
   "execution_count": 15,
   "metadata": {},
   "outputs": [
    {
     "data": {
      "application/vnd.jupyter.widget-view+json": {
       "model_id": "b1e6b477f4714560a23ce77bbfeee43f",
       "version_major": 2,
       "version_minor": 0
      },
      "text/html": [
       "<p>Failed to display Jupyter Widget of type <code>HBox</code>.</p>\n",
       "<p>\n",
       "  If you're reading this message in the Jupyter Notebook or JupyterLab Notebook, it may mean\n",
       "  that the widgets JavaScript is still loading. If this message persists, it\n",
       "  likely means that the widgets JavaScript library is either not installed or\n",
       "  not enabled. See the <a href=\"https://ipywidgets.readthedocs.io/en/stable/user_install.html\">Jupyter\n",
       "  Widgets Documentation</a> for setup instructions.\n",
       "</p>\n",
       "<p>\n",
       "  If you're reading this message in another frontend (for example, a static\n",
       "  rendering on GitHub or <a href=\"https://nbviewer.jupyter.org/\">NBViewer</a>),\n",
       "  it may mean that your frontend doesn't currently support widgets.\n",
       "</p>\n"
      ],
      "text/plain": [
       "HBox(children=(IntProgress(value=0, max=10000), HTML(value='')))"
      ]
     },
     "metadata": {},
     "output_type": "display_data"
    },
    {
     "name": "stdout",
     "output_type": "stream",
     "text": [
      "\n",
      "True Positive : 4391\n",
      "True Negative : 4139\n",
      "False Positive : 423\n",
      "False Negative : 237\n",
      "None from positive : 372\n",
      "None from negative : 438\n",
      "              precision    recall  f1-score   support\n",
      "\n",
      "         IDC       0.91      0.88      0.89      5000\n",
      "     Non-IDC       0.95      0.83      0.88      5000\n",
      "        None       0.00      0.00      0.00         0\n",
      "\n",
      "   micro avg       0.85      0.85      0.85     10000\n",
      "   macro avg       0.62      0.57      0.59     10000\n",
      "weighted avg       0.93      0.85      0.89     10000\n",
      "\n",
      "Accuracy : 0.853\n"
     ]
    },
    {
     "name": "stderr",
     "output_type": "stream",
     "text": [
      "/home/kushaldeb/anaconda3/lib/python3.6/site-packages/sklearn/metrics/classification.py:1145: UndefinedMetricWarning: Recall and F-score are ill-defined and being set to 0.0 in labels with no true samples.\n",
      "  'recall', 'true', average, warn_for)\n"
     ]
    }
   ],
   "source": [
    "true_pos = 0\n",
    "true_neg = 0\n",
    "false_pos = 0\n",
    "false_neg = 0\n",
    "none_from_pos = 0\n",
    "none_from_neg = 0\n",
    "\n",
    "for i in tqdm_notebook(range(len(val_actuals))):\n",
    "    if val_actuals[i] == class_map[1]:\n",
    "        if val_final_preds[i] == class_map[1]:\n",
    "            true_pos += 1\n",
    "        elif val_final_preds[i] == class_map[0]:\n",
    "            false_neg += 1\n",
    "        else:\n",
    "            none_from_pos += 1\n",
    "    else :\n",
    "        if val_final_preds[i] == class_map[1]:\n",
    "            false_pos += 1\n",
    "        elif val_final_preds[i] == class_map[0]:\n",
    "            true_neg += 1\n",
    "        else:\n",
    "            none_from_neg += 1\n",
    "\n",
    "print('True Positive : {}'.format(true_pos))\n",
    "print('True Negative : {}'.format(true_neg))\n",
    "print('False Positive : {}'.format(false_pos))\n",
    "print('False Negative : {}'.format(false_neg))\n",
    "print('None from positive : {}'.format(none_from_pos))\n",
    "print('None from negative : {}'.format(none_from_neg))\n",
    "\n",
    "x = classification_report(val_actuals, val_final_preds)\n",
    "print(x)\n",
    "\n",
    "accuracy = (true_pos+true_neg)/(true_pos+true_neg+false_neg+false_pos+none_from_neg+none_from_pos)\n",
    "print(\"Accuracy : {}\".format(accuracy))"
   ]
  },
  {
   "cell_type": "code",
   "execution_count": 16,
   "metadata": {},
   "outputs": [],
   "source": [
    "data = {\n",
    "    'image_names' : val_imagenames,\n",
    "    'actuals' : val_actuals,\n",
    "    'prediction' : val_final_preds\n",
    "}\n",
    "pd.DataFrame(data).to_csv('validation-ensemble-1.csv', index=False)"
   ]
  }
 ],
 "metadata": {
  "kernelspec": {
   "display_name": "Python 3",
   "language": "python",
   "name": "python3"
  },
  "language_info": {
   "codemirror_mode": {
    "name": "ipython",
    "version": 3
   },
   "file_extension": ".py",
   "mimetype": "text/x-python",
   "name": "python",
   "nbconvert_exporter": "python",
   "pygments_lexer": "ipython3",
   "version": "3.6.4"
  }
 },
 "nbformat": 4,
 "nbformat_minor": 2
}
